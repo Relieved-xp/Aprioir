{
 "cells": [
  {
   "cell_type": "code",
   "execution_count": 1,
   "metadata": {},
   "outputs": [],
   "source": [
    "import itertools\n",
    "\n",
    "# things = np.array([\n",
    "#     ['M', 'O', 'N', 'K', 'E', 'Y'],\n",
    "#     ['D', 'O', 'N', 'K', 'E', 'Y'],\n",
    "#     ['M', 'A', 'K', 'E'],\n",
    "#     ['M', 'U', 'C', 'K', 'Y'],\n",
    "#     ['C', 'O', 'O', 'K', 'I', 'E']\n",
    "# ])\n",
    "\n",
    "things = ['MONKEY', 'DONKEY', 'MAKE', 'MUCKY', 'COOKIE']\n",
    "\n",
    "min_sup = 0.6\n",
    "min_conf = 0.8\n",
    "\n",
    "time = len(things) * min_sup"
   ]
  },
  {
   "cell_type": "code",
   "execution_count": 2,
   "metadata": {
    "scrolled": true
   },
   "outputs": [],
   "source": [
    "#预处理商品列表\n",
    "\n",
    "for i in range(len(things)):\n",
    "    string = ''\n",
    "    for c in things[i]:\n",
    "        if(c not in string):\n",
    "            string += c\n",
    "    things[i] = ''.join(sorted(string))\n",
    "print(things)\n"
   ]
  },
  {
   "cell_type": "code",
   "execution_count": 3,
   "metadata": {},
   "outputs": [],
   "source": [
    "#第一遍统计个数，剪枝\n",
    "\n",
    "res = {}\n",
    "tem_things = ''\n",
    "for thing in things:\n",
    "    tem_things += thing\n",
    "for i in tem_things:\n",
    "    res[i] = tem_things.count(i)\n",
    "    \n",
    "print('第一遍个数统计：', res)\n",
    "\n",
    "for key in list(res):\n",
    "    if (res[key] < time):\n",
    "        del res[key]\n",
    "        \n",
    "print('第一遍剪枝：', res)\n"
   ]
  },
  {
   "cell_type": "code",
   "execution_count": 4,
   "metadata": {},
   "outputs": [],
   "source": [
    "#第二遍统计个数，剪枝\n",
    "n = int(len(res))-1\n",
    "n = int((n+1)*n/2)\n",
    "k = 0\n",
    "things_list = []\n",
    "tem_things = ''\n",
    "\n",
    "for c in res:\n",
    "    tem_things += c\n",
    "for i in itertools.combinations(tem_things, 2):\n",
    "    s = i[0] + i[1]\n",
    "    things_list.append(s)\n",
    "\n",
    "res2 = {}\n",
    "for thing in things_list:\n",
    "    res2[thing] = 0\n",
    "for val in res2:\n",
    "    for thing in things:\n",
    "        if((val[0] in thing) & (val[1] in thing)):\n",
    "            res2[val] += 1\n",
    "for key in list(res2):\n",
    "    if(res2[key] < time):\n",
    "        del res2[key]\n",
    "print('第二遍剪枝：', res2)\n"
   ]
  },
  {
   "cell_type": "code",
   "execution_count": 6,
   "metadata": {},
   "outputs": [
    {
     "name": "stdout",
     "output_type": "stream",
     "text": [
      "{'EKO': 3, 'EKM': 2, 'EKY': 2, 'EKMO': 1, 'EKOY': 2, 'KMO': 1, 'KMY': 2, 'KOY': 2}\n",
      "第三遍剪枝： {'EKO': 3}\n"
     ]
    }
   ],
   "source": [
    "last_list = []\n",
    "res3 = {}\n",
    "for i in itertools.combinations(res2, 2):\n",
    "    s = i[0] + i[1]\n",
    "    s = set(s)\n",
    "    s = ''.join(sorted(s))\n",
    "    last_list.append(s)\n",
    "\n",
    "for thing in last_list:\n",
    "    res3[thing] = 0\n",
    "for val in res3:\n",
    "    for thing in things:\n",
    "        if(len(val) == 3):\n",
    "            if((val[0] in thing) & (val[1] in thing) & (val[2] in thing)):\n",
    "                res3[val] += 1\n",
    "        elif(len(val) == 4):\n",
    "            if((val[0] in thing) & (val[1] in thing) & (val[2] in thing) & (val[3] in thing)):\n",
    "                res3[val] += 1\n",
    "print(res3)\n",
    "for key in list(res3):\n",
    "    if(res3[key] < time):\n",
    "        del res3[key]\n",
    "print('第三遍剪枝：', res3)"
   ]
  }
 ],
 "metadata": {
  "kernelspec": {
   "display_name": "Python 3",
   "language": "python",
   "name": "python3"
  },
  "language_info": {
   "codemirror_mode": {
    "name": "ipython",
    "version": 3
   },
   "file_extension": ".py",
   "mimetype": "text/x-python",
   "name": "python",
   "nbconvert_exporter": "python",
   "pygments_lexer": "ipython3",
   "version": "3.8.5"
  }
 },
 "nbformat": 4,
 "nbformat_minor": 4
}
